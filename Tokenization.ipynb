{
 "cells": [
  {
   "cell_type": "code",
   "execution_count": 6,
   "metadata": {},
   "outputs": [],
   "source": [
    "import numpy as np\n",
    "import pandas as pd"
   ]
  },
  {
   "cell_type": "code",
   "execution_count": 57,
   "metadata": {},
   "outputs": [
    {
     "name": "stderr",
     "output_type": "stream",
     "text": [
      "IOPub data rate exceeded.\n",
      "The notebook server will temporarily stop sending output\n",
      "to the client in order to avoid crashing it.\n",
      "To change this limit, set the config variable\n",
      "`--NotebookApp.iopub_data_rate_limit`.\n",
      "\n",
      "Current values:\n",
      "NotebookApp.iopub_data_rate_limit=1000000.0 (bytes/sec)\n",
      "NotebookApp.rate_limit_window=3.0 (secs)\n",
      "\n"
     ]
    }
   ],
   "source": [
    "data_pos = pd.read_csv(\"C:/Users/HP/Downloads/pos.txt\",error_bad_lines=False)"
   ]
  },
  {
   "cell_type": "code",
   "execution_count": 59,
   "metadata": {},
   "outputs": [
    {
     "name": "stdout",
     "output_type": "stream",
     "text": [
      "(249568, 1)\n"
     ]
    }
   ],
   "source": [
    "print(data_pos.shape)"
   ]
  },
  {
   "cell_type": "code",
   "execution_count": 69,
   "metadata": {},
   "outputs": [
    {
     "name": "stdout",
     "output_type": "stream",
     "text": [
      "['She has already tried one recipe a day after receiving the book.']\n",
      "['I bought this zoku quick pop for my daughterr with her zoku quick maker.']\n",
      "['She loves it and have fun to make her own ice cream.']\n",
      "['I was hoping there were more where those came from.']\n",
      "[\"There is more detailed information about ingredients that don't freeze well in the Zoku than is found in the instruction manual.\"]\n",
      "['Most of the fruit recipes are gimmicky and contain too many ingredients.']\n",
      "['Mango and orange together make a terrific pop.']\n",
      "['The book is great for chocolate lovers and those looking for dessert pop recipes.']\n",
      "['This book is a must have if you get a Zoku (which I also highly recommend).']\n",
      "['They turn out as beautiful as they are tasty.']\n"
     ]
    }
   ],
   "source": [
    "import numpy as np\n",
    "pos_arr = data_pos.values\n",
    "for i in range(0,10):\n",
    "    #print str(pos_arr[i])[1:-1].split()\n",
    "    print(pos_arr[i])\n",
    "    "
   ]
  },
  {
   "cell_type": "code",
   "execution_count": 81,
   "metadata": {
    "scrolled": true
   },
   "outputs": [
    {
     "ename": "error",
     "evalue": "nothing to repeat",
     "output_type": "error",
     "traceback": [
      "\u001b[1;31m---------------------------------------------------------------------------\u001b[0m",
      "\u001b[1;31merror\u001b[0m                                     Traceback (most recent call last)",
      "\u001b[1;32m<ipython-input-81-14da3226af25>\u001b[0m in \u001b[0;36m<module>\u001b[1;34m()\u001b[0m\n\u001b[0;32m      2\u001b[0m \u001b[0mtxt\u001b[0m \u001b[1;33m=\u001b[0m \u001b[1;34m\"already#.\"\u001b[0m\u001b[1;33m\u001b[0m\u001b[0m\n\u001b[0;32m      3\u001b[0m \u001b[0mreplace_list\u001b[0m \u001b[1;33m=\u001b[0m \u001b[1;33m[\u001b[0m\u001b[1;34m'!'\u001b[0m\u001b[1;33m,\u001b[0m\u001b[1;34m'#'\u001b[0m\u001b[1;33m,\u001b[0m\u001b[1;34m'$'\u001b[0m\u001b[1;33m,\u001b[0m \u001b[1;34m'%'\u001b[0m\u001b[1;33m,\u001b[0m\u001b[1;34m'&'\u001b[0m\u001b[1;33m,\u001b[0m\u001b[1;34m'()'\u001b[0m \u001b[1;33m,\u001b[0m\u001b[1;34m'*'\u001b[0m \u001b[1;33m,\u001b[0m\u001b[1;34m'+'\u001b[0m \u001b[1;33m,\u001b[0m\u001b[1;34m'/'\u001b[0m \u001b[1;33m,\u001b[0m\u001b[1;34m':'\u001b[0m \u001b[1;33m,\u001b[0m\u001b[1;34m';'\u001b[0m \u001b[1;33m,\u001b[0m\u001b[1;34m'<'\u001b[0m\u001b[1;33m,\u001b[0m \u001b[1;34m'='\u001b[0m\u001b[1;33m,\u001b[0m \u001b[1;34m'>'\u001b[0m\u001b[1;33m,\u001b[0m \u001b[1;34m'@'\u001b[0m \u001b[1;33m,\u001b[0m\u001b[1;34m'['\u001b[0m\u001b[1;33m,\u001b[0m \u001b[1;34m'\\\\'\u001b[0m\u001b[1;33m,\u001b[0m\u001b[1;34m']'\u001b[0m \u001b[1;33m,\u001b[0m\u001b[1;34m'^'\u001b[0m \u001b[1;33m,\u001b[0m\u001b[1;34m'`'\u001b[0m\u001b[1;33m,\u001b[0m \u001b[1;34m'{'\u001b[0m \u001b[1;33m,\u001b[0m \u001b[1;34m'|'\u001b[0m\u001b[1;33m,\u001b[0m \u001b[1;34m'}'\u001b[0m\u001b[1;33m,\u001b[0m \u001b[1;34m'~'\u001b[0m\u001b[1;33m]\u001b[0m\u001b[1;33m\u001b[0m\u001b[0m\n\u001b[1;32m----> 4\u001b[1;33m \u001b[0mtxt_con\u001b[0m \u001b[1;33m=\u001b[0m \u001b[0mre\u001b[0m\u001b[1;33m.\u001b[0m\u001b[0msub\u001b[0m\u001b[1;33m(\u001b[0m\u001b[1;34m\"|\"\u001b[0m\u001b[1;33m.\u001b[0m\u001b[0mjoin\u001b[0m\u001b[1;33m(\u001b[0m\u001b[0mreplace_list\u001b[0m\u001b[1;33m)\u001b[0m\u001b[1;33m,\u001b[0m \u001b[1;34m\"\"\u001b[0m\u001b[1;33m,\u001b[0m \u001b[0mtxt\u001b[0m\u001b[1;33m)\u001b[0m\u001b[1;33m\u001b[0m\u001b[0m\n\u001b[0m\u001b[0;32m      5\u001b[0m \u001b[1;32mprint\u001b[0m\u001b[1;33m(\u001b[0m\u001b[0mtxt\u001b[0m\u001b[1;33m)\u001b[0m\u001b[1;33m\u001b[0m\u001b[0m\n\u001b[0;32m      6\u001b[0m \u001b[1;32mprint\u001b[0m\u001b[1;33m(\u001b[0m\u001b[1;34m\"|\"\u001b[0m\u001b[1;33m.\u001b[0m\u001b[0mjoin\u001b[0m\u001b[1;33m(\u001b[0m\u001b[0mreplace_list\u001b[0m\u001b[1;33m)\u001b[0m\u001b[1;33m)\u001b[0m\u001b[1;33m\u001b[0m\u001b[0m\n",
      "\u001b[1;32mC:\\ProgramData\\Anaconda2\\lib\\re.pyc\u001b[0m in \u001b[0;36msub\u001b[1;34m(pattern, repl, string, count, flags)\u001b[0m\n\u001b[0;32m    153\u001b[0m     \u001b[0ma\u001b[0m \u001b[0mcallable\u001b[0m\u001b[1;33m,\u001b[0m \u001b[0mit\u001b[0m\u001b[0;31m'\u001b[0m\u001b[0ms\u001b[0m \u001b[0mpassed\u001b[0m \u001b[0mthe\u001b[0m \u001b[0mmatch\u001b[0m \u001b[0mobject\u001b[0m \u001b[1;32mand\u001b[0m \u001b[0mmust\u001b[0m \u001b[1;32mreturn\u001b[0m\u001b[1;33m\u001b[0m\u001b[0m\n\u001b[0;32m    154\u001b[0m     a replacement string to be used.\"\"\"\n\u001b[1;32m--> 155\u001b[1;33m     \u001b[1;32mreturn\u001b[0m \u001b[0m_compile\u001b[0m\u001b[1;33m(\u001b[0m\u001b[0mpattern\u001b[0m\u001b[1;33m,\u001b[0m \u001b[0mflags\u001b[0m\u001b[1;33m)\u001b[0m\u001b[1;33m.\u001b[0m\u001b[0msub\u001b[0m\u001b[1;33m(\u001b[0m\u001b[0mrepl\u001b[0m\u001b[1;33m,\u001b[0m \u001b[0mstring\u001b[0m\u001b[1;33m,\u001b[0m \u001b[0mcount\u001b[0m\u001b[1;33m)\u001b[0m\u001b[1;33m\u001b[0m\u001b[0m\n\u001b[0m\u001b[0;32m    156\u001b[0m \u001b[1;33m\u001b[0m\u001b[0m\n\u001b[0;32m    157\u001b[0m \u001b[1;32mdef\u001b[0m \u001b[0msubn\u001b[0m\u001b[1;33m(\u001b[0m\u001b[0mpattern\u001b[0m\u001b[1;33m,\u001b[0m \u001b[0mrepl\u001b[0m\u001b[1;33m,\u001b[0m \u001b[0mstring\u001b[0m\u001b[1;33m,\u001b[0m \u001b[0mcount\u001b[0m\u001b[1;33m=\u001b[0m\u001b[1;36m0\u001b[0m\u001b[1;33m,\u001b[0m \u001b[0mflags\u001b[0m\u001b[1;33m=\u001b[0m\u001b[1;36m0\u001b[0m\u001b[1;33m)\u001b[0m\u001b[1;33m:\u001b[0m\u001b[1;33m\u001b[0m\u001b[0m\n",
      "\u001b[1;32mC:\\ProgramData\\Anaconda2\\lib\\re.pyc\u001b[0m in \u001b[0;36m_compile\u001b[1;34m(*key)\u001b[0m\n\u001b[0;32m    249\u001b[0m         \u001b[0mp\u001b[0m \u001b[1;33m=\u001b[0m \u001b[0msre_compile\u001b[0m\u001b[1;33m.\u001b[0m\u001b[0mcompile\u001b[0m\u001b[1;33m(\u001b[0m\u001b[0mpattern\u001b[0m\u001b[1;33m,\u001b[0m \u001b[0mflags\u001b[0m\u001b[1;33m)\u001b[0m\u001b[1;33m\u001b[0m\u001b[0m\n\u001b[0;32m    250\u001b[0m     \u001b[1;32mexcept\u001b[0m \u001b[0merror\u001b[0m\u001b[1;33m,\u001b[0m \u001b[0mv\u001b[0m\u001b[1;33m:\u001b[0m\u001b[1;33m\u001b[0m\u001b[0m\n\u001b[1;32m--> 251\u001b[1;33m         \u001b[1;32mraise\u001b[0m \u001b[0merror\u001b[0m\u001b[1;33m,\u001b[0m \u001b[0mv\u001b[0m \u001b[1;31m# invalid expression\u001b[0m\u001b[1;33m\u001b[0m\u001b[0m\n\u001b[0m\u001b[0;32m    252\u001b[0m     \u001b[1;32mif\u001b[0m \u001b[1;32mnot\u001b[0m \u001b[0mbypass_cache\u001b[0m\u001b[1;33m:\u001b[0m\u001b[1;33m\u001b[0m\u001b[0m\n\u001b[0;32m    253\u001b[0m         \u001b[1;32mif\u001b[0m \u001b[0mlen\u001b[0m\u001b[1;33m(\u001b[0m\u001b[0m_cache\u001b[0m\u001b[1;33m)\u001b[0m \u001b[1;33m>=\u001b[0m \u001b[0m_MAXCACHE\u001b[0m\u001b[1;33m:\u001b[0m\u001b[1;33m\u001b[0m\u001b[0m\n",
      "\u001b[1;31merror\u001b[0m: nothing to repeat"
     ]
    }
   ],
   "source": [
    "import re\n",
    "txt = \"She has already# tried! o%ne r^ecipe a| day~ af\\\\ter receiving the book.\"\n",
    "replace_list = ['!','#','$', '%','&','()' ,'*' ,'+' ,'/' ,':' ,';' ,'<', '=', '>', '@' ,'[', '\\\\',']' ,'^' ,'`', '{' , '|', '}', '~']\n",
    "txt_con = re.sub(\"|\".join(replace_list), \"\", txt)\n",
    "print(txt)\n",
    "print(\"|\".join(replace_list))\n",
    "#print(txt_con)"
   ]
  },
  {
   "cell_type": "code",
   "execution_count": 187,
   "metadata": {},
   "outputs": [
    {
     "name": "stdout",
     "output_type": "stream",
     "text": [
      "['He', 'sat', 'on', 'the', 'tree', 'at', 'his', 'right', 'hand', 'side', 'by', 'the', 'tree', 'of', 'his', 'grandfather', 'to', 'be', 'on', 'time']\n",
      "['He', 'sat', 'tree', 'his', 'right', 'hand', 'side', 'by', 'tree', 'his', 'grandfather', 'time']\n"
     ]
    }
   ],
   "source": [
    "stop_word_list = [\"at\",\"on\",\"be\",\"the\",\"of\", \"to\"]\n",
    "input_txt = \"He sat on the tree at his right hand side by the tree of his grandfather to be on time\"\n",
    "input_token = str(input_txt).split()\n",
    "print(input_token)\n",
    "output  = [output for output in input_token if output not in stop_word_list]\n",
    "print(output)"
   ]
  },
  {
   "cell_type": "code",
   "execution_count": null,
   "metadata": {},
   "outputs": [],
   "source": []
  },
  {
   "cell_type": "code",
   "execution_count": 183,
   "metadata": {},
   "outputs": [
    {
     "name": "stdout",
     "output_type": "stream",
     "text": [
      "Hello people\n"
     ]
    }
   ],
   "source": [
    "from string import maketrans \n",
    "\n",
    "string_test=\"He$ll:]#o peo#!$!pl@>!!e\"\n",
    "special_char = \"!#$%&()*+/:;<=>@[\\\\]^`{|}~\\t\\n\"\n",
    "trantab = maketrans('','')\n",
    "\n",
    "\n",
    "print string_test.translate(trantab,special_char)\n"
   ]
  },
  {
   "cell_type": "code",
   "execution_count": 1,
   "metadata": {},
   "outputs": [],
   "source": [
    "#Imports \n",
    "import numpy as np\n",
    "import pandas as pd\n"
   ]
  },
  {
   "cell_type": "code",
   "execution_count": 64,
   "metadata": {},
   "outputs": [
    {
     "name": "stdout",
     "output_type": "stream",
     "text": [
      "!\"#$%&'()*+,-./:;<=>?@[\\]^_`{|}~\n",
      "('pos_rev_tokens_filtered = ', [['my', 'daughter', 'wanted', 'u', '.', 's', '.', 'a', 'he', '-', 'will', 'john', \"'\", 's', 'i', \"'\", 'm', '23', '.', '54', 'he', '/', 'will', 'book', 'price', 'amazon', 'was', 'best'], ['she', 'has', 'already', 'tried', 'one', 'recipe', 'a', 'day', 'after', 'receiving', 'book'], ['i', 'bought', 'zoku', 'quick', 'pop', 'for', 'my', 'daughterr', 'with', 'her', 'zoku', 'quick', 'maker'], ['she', 'loves', 'it', 'have', 'fun', 'make', 'her', 'own', 'ice', 'cream'], ['i', 'was', 'hoping', 'there', 'were', 'more', 'where', 'those', 'came', 'from'], ['book', 'emphasizes', 'very', 'sweet', 'dessert', 'pops', \"'\", '', ',', '', '', \"'\", '', 'however'], ['there', 'are', '41', 'recipes', 'in', 'total', \"'\", '', ',', '', '', \"'\", '', 'only', '13', 'which', 'are', 'fruit', 'pops'], ['there', 'is', 'a', 'fresh', 'fruity', 'chapter', \"'\", '', ',', '', '', \"'\", '', 'followed', 'by', 'three', 'chapters', 'dessert', 'pops', 'entitled', 'i', 'scream', 'for', 'quick', 'pops', \"'\", '', ',', '', '', \"'\", '', 'bake', 'shop', \"'\", '', ',', '', '', \"'\", '', '', 'coco', 'loco'], ['as', 'you', 'might', 'guess', 'from', 'last', 'one', \"'\", '', ',', '', '', \"'\", '', 'there', 'are', '15', 'pop', 'recipes', 'that', 'contain', 'chocolate', '.', 'chapters', 'tips', 'techniques', 'are', 'useful'], ['there', 'is', 'more', 'detailed', 'information', 'about', 'ingredients', 'that', 'don', \"'\", 't', 'freeze', 'well', 'in', 'zoku', 'than', 'is', 'found', 'in', 'instruction', 'manual'], ['pages', 'about', 'core', 'pops', 'are', 'especially', 'helpful', \"'\", '', ',', '', '', \"'\", '', 'as', 'they', 'include', 'recipes', 'for', 'pink', \"'\", '', ',', '', '', \"'\", '', 'purple', \"'\", '', ',', '', '', \"'\", '', 'orange', 'outer', 'layers', 'for', 'brightly', '-', 'colored', 'core', 'pops'], ['many', \"'\", '', ',', '', '', \"'\", '', 'including', 'recipe', 'for', 'a', 'vanilla', 'base', \"'\", '', ',', '', '', \"'\", '', 'call', 'for', 'vanilla', 'pudding', \"'\", '', ',', '', '', \"'\", '', 'where', 'vanilla', 'greek', 'yogurt', 'would', 'do', 'just', 'as', 'well'], ['bright', 'side', \"'\", '', ',', '', '', \"'\", '', 'many', 'these', 'recipes', 'may', 'appeal', 'children', \"'\", '', ',', '', '', \"'\", '', 'whereas', 'most', 'pop', 'books', 'that', 'i', 'have', 'seen', 'are', 'geared', 'more', 'adults'], ['there', 'are', 'flavors', 'like', 'cookie', 'dough', \"'\", '', ',', '', '', '\"', '', 'that', \"'\", 's', 'a', 's', \"'\", 'more', '\"', '', ',', '', '', \"'\", '', 'chocolate', 'peanut', 'butter', \"'\", '', ',', '', '', \"'\", '', 'peanut', 'butter', 'jelly'], ['most', 'fruit', 'recipes', 'are', 'gimmicky', 'contain', 'too', 'many', 'ingredients'], ['recipe', 'for', 'lemonade', 'pops', 'contains', 'orange', 'juice', \"'\", '', ',', '', '', \"'\", '', 'which', 'is', 'fine', \"'\", '', ',', '', '', \"'\", '', 'but', 'addition', 'vanilla', 'extract', 'kills', 'fresh', 'fruit', 'flavor'], ['recipe', 'for', 'mango', 'pops', 'includes', 'orange', \"'\", '', ',', '', '', \"'\", '', 'apple', \"'\", '', ',', '', '', \"'\", '', 'banana', 'lemon', \"'\", '', ',', '', '', \"'\", '', 'which', 'are', 'too', 'many', 'competing', 'flavors'], ['mango', 'orange', 'together', 'make', 'a', 'terrific', 'pop'], ['book', 'is', 'great', 'for', 'chocolate', 'lovers', 'those', 'looking', 'for', 'dessert', 'pop', 'recipes'], ['for', 'fruit', 'pop', 'recipes', \"'\", '', ',', '', '', \"'\", '', 'top', 'pops', 'by', 'emily', 'zaiden', 'is', 'far', 'better'], ['book', 'is', 'a', 'must', 'have', 'if', 'you', 'get', 'a', 'zoku', 'which', 'i', 'also', 'highly', 'recommend'], ['there', 'is', 'a', 'large', 'variety', 'recipes', 'from', 'simple', \"'\", '', ',', '', '', \"'\", '', 'fancy'], ['flavor', 'combos', 'are', 'creative', \"'\", '', ',', '', '', \"'\", '', 'it', 'gives', 'you', 'ideas', 'for', 'decorating', 'pops', 'too'], ['they', 'turn', 'out', 'as', 'beautiful', 'as', 'they', 'are', 'tasty'], ['after', 'reading', 'it', 'you', 'will', 'inspired', 'create', 'your', 'own', 'recipes', 'too'], ['i', 'have', 'really', 'enjoyed', 'reviewing', 'all', 'recipes'], ['sure', '', '-', '', 'some', 'are', 'more', 'difficult', 'than', 'others', \"'\", '', ',', '', '', \"'\", '', 'but', 'there', 'is', 'a', 'nice', 'variety', 'in', 'book'], ['for', 'me', 'it', 'was', 'totally', 'worth', 'it', 'just', 'get', 'quick', 'shell', 'recipes', 'alone'], ['we', 'have', 'only', 'tried', 'chocolate', 'so', 'far', \"'\", '', ',', '', '', \"'\", '', 'but', 'it', 'is', 'so', 'tasty'], ['also', \"'\", '', ',', '', '', \"'\", '', 'it', 'has', 'great', 'instructions', 'for', 'tips', 'using', 'zoku'], ['book', 'is', 'so', 'beautifully', 'illustrated', 'easy', 'follow'], ['it', 'helps', 'you', 'understand', 'zoku', 'better'], ['it', 'might', 'have', 'been', 'even', 'better', 'if', 'they', 'made', 'recipe', 'units', 'for', 'different', 'sized', 'molds'], ['these', 'recipes', 'produce', 'too', 'much', 'for', 'a', 'single', 'mold', 'unit'], ['it', 'would', 'have', 'been', 'nice', 'if', 'they', 'used', 'a', 'matrix', 'for', 'ingredients', 'like', 'a', 'box', 'rice'], ['i', 'am', 'just', 'math', 'lazy', 'bought', 'a', 'single', 'mold', 'zoku'], ['dividing', '3', '/', '4', 'a', 'cup', \"'\", '', ',', '', '', \"'\", '', '3', 'tablespoons', 'or', '3', '1', '/', '2', 'tablespoons', 'is', 'kind', 'dicey', 'in', 'my', 'kitchen'], ['zoku', 'accessories', 'are', 'pricey', \"'\", '', ',', '', '', \"'\", '', 'but', 'recipes', 'have', 'exact', 'amount', 'you', 'need', 'make', 'pops'], ['i', 'have', 'made', 'it', 'through', '15', 'varieties', 'so', 'far', \"'\", '', ',', '', '', \"'\", '', 'i', 'like', 'them', 'all'], ['clear', 'helpful', 'information', \"'\", '', ',', '', '', \"'\", '', 'then', 'some', 'superb', 'recipe', 'suggestions', 'clearly', 'outlined'], ['recipes', 'in', 'books', 'are', 'tedious', 'make'], ['i', 'found', 'that', 'easier', 'simpler', 'recipes', 'can', 'found', 'online'], ['i', 'had', 'no', 'problem', 'with', 'recipes', 'online', 'working', 'in', 'zoku', 'maker'], ['beautifully', 'illustrated', 'book', 'featuring', 'ten', 'colorful', \"'\", '', ',', '', '', \"'\", 'glittery', 'butterflies', 'is', 'a', 'favorite', 'our', 'house'], ['i', 'got', 'as', 'a', 'gift', 'for', 'my', 'niece', 'she', 'loved', 'it'], ['it', \"'\", 's', 'a', 'super', 'cute', 'book', 'ill', 'getting', 'it', 'for', 'any', 'other', 'nieces', 'that', 'may', 'come', 'along'], ['is', 'story', 'a', 'group', 'butterflies', 'looking', 'for', 'a', 'place', 'sleep'], ['colors', 'butterflies', \"'\", '', ',', '', '', \"'\", '', 'cute', 'story', 'all', 'were', 'a', 'hit'], ['a', 'brilliant', 'bedtime', 'story', 'with', 'vibrant', 'colors', 'gorgeous', 'illustrations'], ['each', 'page', 'teaches', 'a', 'different', 'color', 'illustrations', 'boldly', 'burst', 'with', 'that', 'color'], ['', \"'\", '', ',', '', '', \"'\", '', 'is', 'how', 'book', 'starts', 'off', 'we', 'are', 'then', 'led', 'all', 'around', 'color', 'dreamland'], ['butterflies', 'in', 'book', 'are', 'popped', 'out', 'sparkly'], ['as', 'we', 'turn', 'each', 'page', 'color', 'butterfly', 'we', 'are', 'reading', 'about', 'disappears'], ['each', 'page', 'mentions', 'color', 'twice', 'an', 'animal'], ['last', 'page', 'reunites', 'all', 'butterflies', 'colorful', 'animals', 'as', 'we', 'say', 'goodnight', '.', '', '.', '', '.', 'my', 'daughter', 'loved', 'book', 'since', 'she', 'was', '4', 'months', 'old'], ['colorful', 'illustrations', 'keep', 'her', 'interested', 'she', 'likes', 'grab', 'popped', 'up', 'butterflies'], ['a', 'delightful', 'story', 'i', 'enjoy', 'reading', 'again', 'again'], ['my', 'daughter', '1', 'year', 'old', 'really', 'likes', 'book'], ['i', 'bought', 'it', 'because', 'its', 'similarity', '10', 'little', 'ladybugs', 'book'], ['it', 'has', 'same', 'sort', 'colorful', 'illustrations', 'i', 'like', 'it', 'better', 'as', 'ladybugs', 'are', 'not', 'as', 'pretty', 'as', 'sparkly', 'butterflies'], ['i', 'would', 'say', 'it', 'was', 'one', 'her', 'very', 'favorites', 'when', 'she', 'was', 'young'], ['for', 'a', 'novice', 'cake', 'decorator', 'who', 'got', 'talked', 'into', 'making', 'her', 'son', \"'\", 's', 'wedding', 'cake', '\"', '', ',', '', '', \"'\", '', 'wilton', 'makes', 'lovely', 'cake', 'decorating', 'accessories', 'help', 'with', 'every', 'step'], ['for', 'a', 'first', 'wedding', 'cake', \"'\", '', ',', '', '', '\"', '', 'it', 'was', 'amazing', 'with', 'wilton', \"'\", 's', 'help', '', 'book', 'is', 'a', 'must', 'have', 'for', 'newbies', 'like', 'me'], ['i', 'should', 'not', 'have', 'bought', 'it', 'because', 'it', 'comes', 'free', 'from', 'my', 'cake', 'decorating', 'class'], ['oh', 'well', \"'\", '', ',', '', '', \"'\", '', 'least', 'i', 'gave', 'other', 'copy', 'my', 'sister'], ['i', 'added', 'an', 'image', 'a', 'cake', 'i', 'made', 'according', 'book', 'lessons', \"'\", '', ',', '', '', \"'\", '', 'which', 'i', 'advice', 'anyone', 'who', 'is', 'interested', 'get', 'book'], ['excellent', 'book', \"'\", '', ',', '', '', \"'\", '', 'shipped', 'time', \"'\", '', ',', '', '', \"'\", '', 'packaged', 'nicely', \"'\", '', ',', '', '', \"'\", '', 'helpful', 'tips', 'in', 'book', \"'\", '', ',', '', '', \"'\", '', 'good', 'price'], ['very', 'good', 'experience', \"'\", '', ',', '', '', \"'\", '', 'very', 'happy', 'with', 'product', 'vendor'], ['don', \"'\", 't', 'use', 'it', 'much', 'but', 'when', 'i', 'had', 'it', \"'\", 's', 'been', 'useful'], ['i', 'recommend', 'it', 'all', 'who', 'wants', 'learn', 'how', 'decorate', 'cakes'], ['good', 'book', 'for', 'beginners', 'who', 'need', 'step', 'by', 'step', 'instructions', 'guidance'], ['got', 'for', 'my', 'girlfriend', 'who', 'runs', 'a', 'baking', 'business', 'she', 'said', 'it', 'was', 'handy', 'have', 'for', 'a', 'reference', 'book'], ['she', 'said', 'it', 'is', 'handy', 'have', 'when', 'thinking', 'decorating', 'ideas'], ['i', \"'\", 'm', 'hoping', 'that', 'i', 'can', 'learn', 'how', 'make', 'gum', 'paste', 'flowers', 'perfection', 'for', 'my', 'daughters', 'wedding', '\"', '', ',', '', '', \"'\", '', 'maybe', 'a', 'few', 'other', 'cakes'], ['128', 'page', 'book', 'contains', 'pictures', 'patterns', 'for', '38', 'tiered', 'cakes'], ['it', 'gives', 'you', 'instructions', 'how', 'assemble', 'cakes', 'stands', \"'\", '', ',', '', '', \"'\", '', 'pillars', 'or', 'stacked', 'construction'], ['it', 'also', 'contains', 'recipes', 'for', 'basic', 'scratch', 'cakes', 'in', 'white', \"'\", '', ',', '', '', \"'\", '', 'yellow', \"'\", '', ',', '', '', \"'\", '', 'chocolate', \"'\", '', ',', '', '', \"'\", '', 'strawberry', \"'\", '', ',', '', '', \"'\", '', 'banana'], ['it', 'also', 'has', 'recipes', 'for', 'standard', 'wilton', 'icings', \"'\", '', ',', '', '', \"'\", '', 'fillings', \"'\", '', ',', '', '', \"'\", '', 'glazes', \"'\", '', ',', '', '', \"'\", '', 'fondant', 'not', 'tasty', 'marshmallow', 'kind', \"'\", '', ',', '', '', \"'\", '', 'color', 'flow', \"'\", '', ',', '', '', \"'\", '', 'gum', 'paste', \"'\", '', ',', '', '', \"'\", '', 'candy', 'clay'], ['there', 'are', 'tips', 'for', 'baking', \"'\", '', ',', '', '', \"'\", '', 'leveling', \"'\", '', ',', '', '', \"'\", '', 'torting', \"'\", '', ',', '', '', \"'\", '', 'filling', 'icing', 'cakes'], ['it', 'also', 'gives', 'some', 'instruction', 'how', 'cover', 'a', 'cake', 'with', 'fondant'], ['there', 'are', 'suggestions', 'for', 'transporting', 'tiered', 'cakes', \"'\", '', ',', '', '', \"'\", '', 'calculating', 'servings', 'per', 'cake', 'cutting', 'guides'], ['book', 'also', 'includes', 'patterns', 'instructions', 'for', 'various', 'decorations'], ['as', 'with', 'all', 'wilton', 'books', \"'\", '', ',', '', '', \"'\", '', 'last', 'few', 'pages', 'detail', 'products', 'you', 'can', 'buy', 'from', 'them', 'duplicate', 'all', 'designs', 'in', 'book'], ['problem', 'is', 'that', 'some', 'these', 'items', 'don', \"'\", 't', 'seem', 'available', 'their', 'web', 'site', 'any', 'more'], ['still', \"'\", '', ',', '', '', '\"', '', 'it', \"'\", 's', 'a', 'great', 'idea', 'book', 'i', \"'\", 'm', 'sure', 'you', 'can', 'find', 'acceptable', 'substitutes', 'for', 'a', 'lot', 'items'], ['first', 'class', 'is', 'a', 'demonstration', 'by', 'instructor', 'how', 'put', 'together', 'a', 'tiered', 'cake'], ['second', 'class', 'is', 'where', 'we', 'bring', 'in', 'our', 'own', 'cakes', 'learn', 'how', 'stack', 'or', 'pillar', 'them'], ['it', \"'\", 's', 'a', 'great', 'way', 'top', 'off', 'other', 'four', 'classes'], ['i', 'am', 'very', 'happy', 'i', 'purchased', 'book', 'as', 'it', 'containes', 'so', 'much', 'great', 'information', 'time', 'saving', 'tips'], ['book', 'isn', \"'\", 't', 'much', 'help', 'if', 'you', 'are', 'not', 'taking', 'wilton', 'cake', 'decorating', 'classes'], ['you', 'can', 'get', 'basics', 'but', 'its', 'really', 'just', 'a', 'visual', 'for', 'class'], ['i', 'have', 'always', 'wanted', 'learn', 'how', 'decorate', 'a', 'beautiful', 'cake', \"'\", '', ',', '', '', \"'\", '', 'i', 'purchased', 'guidebook', 'along', 'with', 'wilton', 'pastry', 'bag', 'kit'], ['i', 'do', \"'\", '', ',', '', '', \"'\", '', 'however', \"'\", '', ',', '', '', \"'\", '', 'agree', 'that', 'book', 'did', 'appear', 'an', 'advertisment', 'for', 'thier', 'products', \"'\", '', ',', '', '', \"'\", '', 'but', 'guide', 'was', 'helpful', 'nonetheless'], ['lesson', 'plan', 'is', 'perfect', 'for', 'a', 'beginner', 'definitely', 'helped', 'introduce', 'working', 'with', 'fondant', 'in', 'a', 'user', '-', 'friendly', 'way'], ['each', 'every', 'little', 'hint', 'that', 'helps', 'you', 'make', 'your', 'flowers', 'appear', 'real', 'is', 'in', 'book', 'you', 'cannot', 'go', 'wrong', 'with', 'book'], ['you', 'will', 'find', 'yourself', 'reading', 'it', 'over', 'over', \"'\", '', ',', '', '', \"'\", '', 'makign', 'flowers', 'over', 'over']])\n"
     ]
    }
   ],
   "source": [
    "\n",
    "# Imports\n",
    "from string import maketrans\n",
    "import string\n",
    "import numpy as np\n",
    "import pandas as pd\n",
    "import re\n",
    "# Reading the file \n",
    "pos_reviews =open('C:/Users/HP/Downloads/pos1.txt','r+')\n",
    "\n",
    "\n",
    "# Removing special characters\n",
    "special_char = str('!\"#$%&()*+:;<=>@[\\\\]^`{|}~\\t\\n') \n",
    "trantab = maketrans('','')\n",
    "pos_rev = [(str(pos).lower()).translate(trantab,special_char).split(\",\") for pos in pos_reviews.readlines(10)]\n",
    "print(string.punctuation)\n",
    "#print(\"special_removed = \",pos_rev)\n",
    "# Tokenizing the words\n",
    "pos_rev_tokens = [re.split('(\\W)',str(pos)[2:-3]) for pos in pos_rev]\n",
    "#print \"pos_rev_tokens = \",pos_rev_tokens \n",
    "\n",
    "# Removing stop words\n",
    "stop_word_list = [\"at\",\"on\",\"be\",\"the\",\"of\", \"to\",\"this\",\"and\",\" \"]\n",
    "\n",
    "\n",
    "\n",
    "def remove_stop_words(stop_words,token):\n",
    "    return [out for out in token if out not in stop_words]\n",
    "\n",
    "pos_rev_tokens_filtered = [remove_stop_words(stop_word_list,pos) for pos in pos_rev_tokens]\n",
    "\n",
    "print(\"pos_rev_tokens_filtered = \",pos_rev_tokens_filtered)\n",
    "\n",
    "\n",
    "# Create Train,Test,Validation Sets\n",
    "def correct_dim(dim,original):\n",
    "    if sum(dim) == original:\n",
    "        return dim\n",
    "    else:\n",
    "        if sum(dim) > original:\n",
    "            dim[0] = dim[0] - 1\n",
    "            return correct_dim(dim,original)\n",
    "        if sum(dim) < original:\n",
    "            dim[0] = dim[0] + 1\n",
    "            return correct_dim(dim,original)\n",
    "\n",
    "def create_train_test_val(pos_rev_tokens_filtered):\n",
    "    import random\n",
    "    nums = random.sample(range(len(pos_rev_tokens_filtered)),len(pos_rev_tokens_filtered))\n",
    "\n",
    "    dim = [round(0.8*len(nums)),round(0.10*len(nums)), round(0.10*len(nums))]\n",
    "\n",
    "\n",
    "\n",
    "    dim = correct_dim(dim,len(pos_rev_tokens_filtered))\n",
    "                  \n",
    "    train = [pos_rev_tokens_filtered[index] for index in nums[0:int(dim[0])] ]\n",
    "    val   = [pos_rev_tokens_filtered[index] for index in nums[int(dim[0]):int(dim[0]+dim[1])]]\n",
    "    test  = [pos_rev_tokens_filtered[index] for index in nums[int(dim[0]+dim[1]): int(dim[0]+dim[1]+dim[2])]]\n",
    "    return [train,test,val]\n",
    "\n",
    "\n",
    "\n",
    "\n",
    "\n",
    "\n",
    "\n"
   ]
  },
  {
   "cell_type": "code",
   "execution_count": 55,
   "metadata": {},
   "outputs": [
    {
     "name": "stdout",
     "output_type": "stream",
     "text": [
      "True\n",
      "['my', 'daughter', 'wanted', 'u', '.', 's', '.', 'a', 'he', '-', 'will', 'john', \"'\", 's', 'i', \"'\", 'm', '23', '.', '54', 'he', '/', 'will', 'this', 'book', 'and', 'the', 'price', 'on', 'amazon', 'was', 'the', 'best']\n"
     ]
    }
   ],
   "source": []
  },
  {
   "cell_type": "code",
   "execution_count": 13,
   "metadata": {},
   "outputs": [
    {
     "name": "stdout",
     "output_type": "stream",
     "text": [
      "My daughter wanted u.s.a he-will John's I'm 23.54 he/will this book and the price on Amazon was the \n",
      "done......\n"
     ]
    }
   ],
   "source": [
    "pos_reviews =open('C:/Users/HP/Downloads/pos1.txt','r')\n",
    "string= pos_reviews.read()\n",
    "print((string[0:100]))\n",
    "print(\"done......\")\n"
   ]
  }
 ],
 "metadata": {
  "kernelspec": {
   "display_name": "Python 2",
   "language": "python",
   "name": "python2"
  },
  "language_info": {
   "codemirror_mode": {
    "name": "ipython",
    "version": 2
   },
   "file_extension": ".py",
   "mimetype": "text/x-python",
   "name": "python",
   "nbconvert_exporter": "python",
   "pygments_lexer": "ipython2",
   "version": "2.7.15"
  }
 },
 "nbformat": 4,
 "nbformat_minor": 2
}
